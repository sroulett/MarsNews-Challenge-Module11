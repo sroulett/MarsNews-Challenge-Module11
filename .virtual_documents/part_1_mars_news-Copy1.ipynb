


# Import Splinter and BeautifulSoup
from splinter import Browser
from bs4 import BeautifulSoup


browser = Browser('chrome')





# Visit the Mars news site
url = 'https://static.bc-edx.com/data/web/mars_news/index.html'
browser.visit(url)





# Create a Beautiful Soup object
html = browser.html
soup = BeautifulSoup(html, "html.parser")


# Extract all the text elements
text_elements = soup.find_all("div", class_="list_text")
text_elements





# Create an empty list to store the dictionaries
title_preview_list = []


# Loop through the text elements
for elements in text_elements:

# Extract the title and preview text from the elements
    title = elements.find("div", class_="content_title").text
    preview = elements.find("div", class_ = "article_teaser_body").text

# Store each title and preview pair in a dictionary
    title_preview_dict = {
        "title": title,
        "preview": preview
    }
# Add the dictionary to the list
    title_preview_list.append(title_preview_dict)



# Print the list to confirm success
title_preview_list


browser.quit()



